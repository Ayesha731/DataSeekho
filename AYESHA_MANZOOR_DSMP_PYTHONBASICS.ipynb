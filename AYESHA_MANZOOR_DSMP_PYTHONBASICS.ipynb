{
  "nbformat": 4,
  "nbformat_minor": 0,
  "metadata": {
    "colab": {
      "provenance": []
    },
    "kernelspec": {
      "name": "python3",
      "display_name": "Python 3"
    },
    "language_info": {
      "name": "python"
    }
  },
  "cells": [
    {
      "cell_type": "markdown",
      "source": [
        "# ***Data Seekho (DSMP) Exercises on Python Basics***"
      ],
      "metadata": {
        "id": "Tk8zjb2FNJL3"
      }
    },
    {
      "cell_type": "markdown",
      "source": [
        "# **Ayesha Manzoor**\n",
        "# Assignment#1\n"
      ],
      "metadata": {
        "id": "5TIRqRG1KCus"
      }
    },
    {
      "cell_type": "markdown",
      "source": [
        "Exercise 1: Comments\n",
        "Write a program that prints your name and includes both single-line and multi-line comments explaining what each part of your code does.\n"
      ],
      "metadata": {
        "id": "SiZU4Fz2NT64"
      }
    },
    {
      "cell_type": "code",
      "source": [
        " #--->This is single line comment, Comments are used for the user/developer so that he can understand all the things easily--it is human way writing\n",
        "#comments are ignored by the python interpreter means they won't effect the functionality of the code\n",
        "print(\"My name is Ayesha\") #This print my name in the console\n",
        "\n",
        "\"\"\"\n",
        "These are multiline comments using triple double quotes..it can span multiple line\n",
        "print(\"My name is Ayesha\")\n",
        "print(\"I am a student of BSCS\")\n",
        "print(\"I am from Lahore\")\n",
        "print(\"I am passionate to learn new things\")\n",
        "\"\"\"\n",
        "print(\"My name is Ayesha\")\n",
        "\n",
        "'''\n",
        "These are multiline comments using triple single quotes..it is another way of writing multiple line comment\n",
        "print(\"My name is Ayesha\")\n",
        "print(\"I am a student of BSCS\")\n",
        "print(\"I am from Lahore\")\n",
        "print(\"I am passionate to learn new things\")\n",
        "'''\n",
        "print(\"My name is Ayesha\")"
      ],
      "metadata": {
        "colab": {
          "base_uri": "https://localhost:8080/"
        },
        "id": "ENJ4bepONVEf",
        "outputId": "71ac8a0d-6dfa-4900-e063-b42b678f8e15"
      },
      "execution_count": null,
      "outputs": [
        {
          "output_type": "stream",
          "name": "stdout",
          "text": [
            "My name is Ayesha\n",
            "My name is Ayesha\n",
            "My name is Ayesha\n"
          ]
        }
      ]
    },
    {
      "cell_type": "markdown",
      "source": [
        "Exercise 2: Error Identification\n",
        "Below is a piece of code with some intentional errors. Identify and correct the errors. Explain the type of error for each correction made.\n",
        "\n",
        "print(\"Welcome to Python!\"\n",
        "result = 10 / 0               \n",
        "my_list = [1, 2, 3\n",
        "print(my_list[3])\n"
      ],
      "metadata": {
        "id": "wF6XrXKQPcj4"
      }
    },
    {
      "cell_type": "code",
      "source": [
        "#Type of Error-->Syntax erro incomplete input--> due to missing of small closing bracket--\n",
        "#print(\"Welcome to Python!\"\n",
        "print(\"Welcome to Python!\")\n",
        "#Type of Error-->Runtime error-->anything divided by zero give answer infintiy which cause run time error--this is invalid operation\n",
        "#result = 10 / 0\n",
        "result = 10 / 2\n",
        "print(result)\n",
        "#Type of Error-->SyntaxError incomplete input--> due to missing of close square bracket\n",
        "#my_list = [1, 2, 3\n",
        "my_list = [1, 2, 3]\n",
        "#Type of Error-->IndexError (list index out of range)\n",
        "#print(my_list[3])\n",
        "print(my_list[2])\n"
      ],
      "metadata": {
        "colab": {
          "base_uri": "https://localhost:8080/"
        },
        "id": "RBjsKqcmPdtr",
        "outputId": "6c5abe85-2761-416f-bfad-7e57997d3265"
      },
      "execution_count": 1,
      "outputs": [
        {
          "output_type": "stream",
          "name": "stdout",
          "text": [
            "Welcome to Python!\n",
            "5.0\n",
            "3\n"
          ]
        }
      ]
    },
    {
      "cell_type": "markdown",
      "source": [
        "Exercise 3: Variable Assignment\n",
        "Create a program that:\n",
        "Assign your name (string), age (integer), height (float), and whether you are a student (boolean) to variables.\n",
        "Prints each variable with an appropriate message.\n"
      ],
      "metadata": {
        "id": "iuj77KdmRRfH"
      }
    },
    {
      "cell_type": "code",
      "source": [
        "#variable is use to save the data in the memory of the computer--we can assign any value to the variable\n",
        "name=\"Ayesha\" #string type-->in this \"Ayesha\" is store in the \"name\" variable-->it is string type as the name in \" \"\n",
        "#everything that is in the double quotes or single \" \" are string\n",
        "age=24 #integer type-->whole numbers are always integers type (positive and negative both)\n",
        "height=5.5 #float type-->decimal point numbers are always in float type\n",
        "is_student=True #boolean type-->true or false are boolean type-->it has only two options\n",
        "\n",
        "print(\"My Name is:\",name);\n",
        "print(\"My age is:\",age);\n",
        "print(\"My height is:\",height);\n",
        "print(\"Are you student?\",is_student);"
      ],
      "metadata": {
        "colab": {
          "base_uri": "https://localhost:8080/"
        },
        "id": "NER_iR71NSMA",
        "outputId": "96a33785-f038-4b2d-8d6f-2fac62d13aef"
      },
      "execution_count": null,
      "outputs": [
        {
          "output_type": "stream",
          "name": "stdout",
          "text": [
            "My Name is: Ayesha\n",
            "My age is: 24\n",
            "My height is: 5.5\n",
            "Are you student? True\n"
          ]
        }
      ]
    },
    {
      "cell_type": "markdown",
      "source": [
        "Exercise 4: Descriptive Variable Names\n",
        "Rewrite the following code using descriptive variable names:\n",
        "\n",
        "a = 5\n",
        "b = 10\n",
        "c = a * b\n",
        "print(c)\n",
        "\n"
      ],
      "metadata": {
        "id": "r-ua6BusRYFF"
      }
    },
    {
      "cell_type": "code",
      "source": [
        "# a = 5\n",
        "# b = 10\n",
        "# c = a * b\n",
        "# print(c)\n",
        "\n",
        "number1=5 #variable name is number1 which is meaningful and it store 5 in it\n",
        "number2=10 #variable name is number2 which is meaningful and it store 10 in it\n",
        "product=number1*number2 #product is the variable name which contain multiple of number1 and number2\n",
        "print(\"The product of\",number1,\"and\",number2,\"=\",product) # print the answer of the product of two numbers\n"
      ],
      "metadata": {
        "colab": {
          "base_uri": "https://localhost:8080/"
        },
        "id": "dZjOA64mRZWZ",
        "outputId": "5295a14e-1fa1-4d50-9de4-449b3e4b1fb7"
      },
      "execution_count": null,
      "outputs": [
        {
          "output_type": "stream",
          "name": "stdout",
          "text": [
            "The product of 5 and 10 = 50\n"
          ]
        }
      ]
    },
    {
      "cell_type": "markdown",
      "source": [
        "Exercise 5: Numeric Types and Operations\n",
        "Perform the following operations and print the results:\n",
        "Add two integers\n",
        "Subtract a float from an integer\n",
        "Multiply a float by a complex number\n",
        "Divide an integer by zero (observe and write down the error)\n"
      ],
      "metadata": {
        "id": "wccO0GSdRVQL"
      }
    },
    {
      "cell_type": "code",
      "source": [
        "#Add two integers\n",
        "num1=5 #integer type\n",
        "num2=10 #integer type\n",
        "result=num1+num2 #add two integers\n",
        "print(\"The sum of\",num1,\"and\",num2,\"=\",result)\n",
        "#Subtract a float from an integer\n",
        "num3=5.5 #float type\n",
        "num4=10 #integer type\n",
        "result=num4-num3 #subtract two integers\n",
        "print(\"The difference of\",num4,\"and\",num3,\"=\",result)\n",
        "#Multiply a float by a complex number\n",
        "num5=5.5 #float type\n",
        "num6=10+4j #complex number\n",
        "result=num5*num6 #multiply a float by a complex number\n",
        "print(\"The product of\",num5,\"and\",num6,\"=\",result)\n",
        "#Divide an integer by zero (observe and write down the error)\n",
        "num7=5 #integer type\n",
        "num8=0 #integer type\n",
        "result=num7/num8 #divide two integers-->ZeroDivisionError-->divided by zero--Runtime error\n",
        "print(\"The quotient of\",num7,\"and\",num8,\"=\",result)\n",
        "\n"
      ],
      "metadata": {
        "colab": {
          "base_uri": "https://localhost:8080/",
          "height": 263
        },
        "id": "cJDelGU1Rg3T",
        "outputId": "bdf90785-6419-42ad-e354-85ceb01519b3"
      },
      "execution_count": 2,
      "outputs": [
        {
          "output_type": "stream",
          "name": "stdout",
          "text": [
            "The sum of 5 and 10 = 15\n",
            "The difference of 10 and 5.5 = 4.5\n",
            "The product of 5.5 and (10+4j) = (55+22j)\n"
          ]
        },
        {
          "output_type": "error",
          "ename": "ZeroDivisionError",
          "evalue": "division by zero",
          "traceback": [
            "\u001b[0;31m---------------------------------------------------------------------------\u001b[0m",
            "\u001b[0;31mZeroDivisionError\u001b[0m                         Traceback (most recent call last)",
            "\u001b[0;32m<ipython-input-2-aa548a14f4c0>\u001b[0m in \u001b[0;36m<cell line: 19>\u001b[0;34m()\u001b[0m\n\u001b[1;32m     17\u001b[0m \u001b[0mnum7\u001b[0m\u001b[0;34m=\u001b[0m\u001b[0;36m5\u001b[0m \u001b[0;31m#integer type\u001b[0m\u001b[0;34m\u001b[0m\u001b[0;34m\u001b[0m\u001b[0m\n\u001b[1;32m     18\u001b[0m \u001b[0mnum8\u001b[0m\u001b[0;34m=\u001b[0m\u001b[0;36m0\u001b[0m \u001b[0;31m#integer type\u001b[0m\u001b[0;34m\u001b[0m\u001b[0;34m\u001b[0m\u001b[0m\n\u001b[0;32m---> 19\u001b[0;31m \u001b[0mresult\u001b[0m\u001b[0;34m=\u001b[0m\u001b[0mnum7\u001b[0m\u001b[0;34m/\u001b[0m\u001b[0mnum8\u001b[0m \u001b[0;31m#divide two integers-->ZeroDivisionError-->divided by zero\u001b[0m\u001b[0;34m\u001b[0m\u001b[0;34m\u001b[0m\u001b[0m\n\u001b[0m\u001b[1;32m     20\u001b[0m \u001b[0mprint\u001b[0m\u001b[0;34m(\u001b[0m\u001b[0;34m\"The quotient of\"\u001b[0m\u001b[0;34m,\u001b[0m\u001b[0mnum7\u001b[0m\u001b[0;34m,\u001b[0m\u001b[0;34m\"and\"\u001b[0m\u001b[0;34m,\u001b[0m\u001b[0mnum8\u001b[0m\u001b[0;34m,\u001b[0m\u001b[0;34m\"=\"\u001b[0m\u001b[0;34m,\u001b[0m\u001b[0mresult\u001b[0m\u001b[0;34m)\u001b[0m\u001b[0;34m\u001b[0m\u001b[0;34m\u001b[0m\u001b[0m\n\u001b[1;32m     21\u001b[0m \u001b[0;34m\u001b[0m\u001b[0m\n",
            "\u001b[0;31mZeroDivisionError\u001b[0m: division by zero"
          ]
        }
      ]
    },
    {
      "cell_type": "markdown",
      "source": [
        "Exercise 6: Built-in Functions\n",
        "Write a program that:\n",
        "Takes a list of numbers as input from the user.\n",
        "Uses the abs(), max(), and min() functions to find the absolute values, maximum, and minimum of the numbers.\n",
        "Prints the results with appropriate messages.\n",
        "Example input: [-5, 3.2, -1, 0, 12]\n"
      ],
      "metadata": {
        "id": "09ZBHVqkRha8"
      }
    },
    {
      "cell_type": "code",
      "source": [
        "#Takes a list of numbers as input from the user.\n",
        "numbers = input(\"Enter a list of numbers separated by spaces: \").split(',')\n",
        "print(numbers);\n",
        "# cob=vert the type into flaot as it take into string\n",
        "numbers = [float(num) for num in numbers];\n",
        "#Uses the abs(), max(), and min() functions to find the absolute values, maximum, and minimum of the numbers.\n",
        "absolute_values = [abs(num) for num in numbers];\n",
        "print(\"The absolute values of the numbers are:\",(absolute_values));\n",
        "print(\"The maximum value of the numbers is:\",(max(numbers)));\n",
        "print(\"The minimum value of the numbers is:\",(min(numbers)));\n"
      ],
      "metadata": {
        "id": "KZO2YDiERk0d",
        "colab": {
          "base_uri": "https://localhost:8080/"
        },
        "outputId": "01a65bf2-29b0-482e-b9dc-6c2d0a89a552"
      },
      "execution_count": 14,
      "outputs": [
        {
          "output_type": "stream",
          "name": "stdout",
          "text": [
            "Enter a list of numbers separated by spaces: -5,3.2,-1,0,12\n",
            "['-5', '3.2', '-1', '0', '12']\n",
            "The absolute values of the numbers are: [5.0, 3.2, 1.0, 0.0, 12.0]\n",
            "The maximum value of the numbers is: 12.0\n",
            "The minimum value of the numbers is: -5.0\n"
          ]
        }
      ]
    },
    {
      "cell_type": "markdown",
      "source": [
        "Exercise 7: Arithmetic Operations\n",
        "Create a simple calculator program that:\n",
        "Prompts the user to enter two numbers.\n",
        "Asks the user to select an operation: addition, subtraction, multiplication, or division.\n",
        "Performs the selected operation and prints the result. Handle division by zero gracefully.\n"
      ],
      "metadata": {
        "id": "34yJ4r5HRlXr"
      }
    },
    {
      "cell_type": "code",
      "source": [
        "# Create a simple calculator program that:\n",
        "# Prompts the user to enter two numbers.\n",
        "number_1=float(input(\"Enter first number: \"));\n",
        "print(number_1);\n",
        "number_2=float(input(\"Enter second number: \"));\n",
        "print(number_2);\n",
        "# Asks the user to select an operation: addition, subtraction, multiplication, or division.\n",
        "print(\"Select an operation:\");\n",
        "print(\"1. Addition\");\n",
        "print(\"2. Subtraction\");\n",
        "print(\"3. Multiplication\");\n",
        "print(\"4. Division\");\n",
        "choice=int(input(\"Enter your choice: \"));\n",
        "# Performs the selected operation and prints the result. Handle division by zero gracefully.\n",
        "if choice==1:\n",
        "  print(\"The sum of\",number_1,\"and\",number_2,\"=\",number_1+number_2);\n",
        "elif choice==2:\n",
        "  print(\"The difference of\",number_1,\"and\",number_2,\"=\",number_1-number_2);\n",
        "elif choice==3:\n",
        "  print(\"The product of\",number_1,\"and\",number_2,\"=\",number_1*number_2);\n",
        "elif choice==4:\n",
        "  if number_2==0:\n",
        "    print(\"Division by zero is not allowed\");\n",
        "  print(\"The quotient of\",number_1,\"and\",number_2,\"=\",number_1/number_2);\n",
        "else:\n",
        "  print(\"Invalid choice\");\n",
        "\n",
        "\n"
      ],
      "metadata": {
        "id": "VJ8vWgmDRn86",
        "colab": {
          "base_uri": "https://localhost:8080/"
        },
        "outputId": "bfa55b13-316a-4669-d9e3-82c2a175e1e7"
      },
      "execution_count": 21,
      "outputs": [
        {
          "output_type": "stream",
          "name": "stdout",
          "text": [
            "Enter first number: 23.5\n",
            "23.5\n",
            "Enter second number: 67.4\n",
            "67.4\n",
            "Select an operation:\n",
            "1. Addition\n",
            "2. Subtraction\n",
            "3. Multiplication\n",
            "4. Division\n",
            "Enter your choice: 4\n",
            "The quotient of 23.5 and 67.4 = 0.3486646884272997\n"
          ]
        }
      ]
    },
    {
      "cell_type": "code",
      "source": [
        "# Create a simple calculator program that:\n",
        "# Prompts the user to enter two numbers.\n",
        "number_1=float(input(\"Enter first number: \"));\n",
        "print(number_1);\n",
        "number_2=float(input(\"Enter second number: \"));\n",
        "print(number_2);\n",
        "# Asks the user to select an operation: addition, subtraction, multiplication, or division.\n",
        "print(\"Select an operation:\");\n",
        "print(\"Addition\");\n",
        "print(\"Subtraction\");\n",
        "print(\"Multiplication\");\n",
        "print(\"Division\");\n",
        "choice=input(\"Enter your choice: \");\n",
        "# Performs the selected operation and prints the result. Handle division by zero gracefully.\n",
        "if choice==\"Addition\":\n",
        "  print(\"The sum of\",number_1,\"and\",number_2,\"=\",number_1+number_2);\n",
        "elif choice==\"Subtraction\":\n",
        "  print(\"The difference of\",number_1,\"and\",number_2,\"=\",number_1-number_2);\n",
        "elif choice==\"Multiplication\":\n",
        "  print(\"The product of\",number_1,\"and\",number_2,\"=\",number_1*number_2);\n",
        "elif choice==\"Division\":\n",
        "  if number_2==0:\n",
        "    print(\"Division by zero is not allowed\");\n",
        "  print(\"The quotient of\",number_1,\"and\",number_2,\"=\",number_1/number_2);\n",
        "else:\n",
        "  print(\"Invalid choice-->Please enter the correct\");\n"
      ],
      "metadata": {
        "colab": {
          "base_uri": "https://localhost:8080/"
        },
        "id": "lQUssMDGkTy8",
        "outputId": "f22c7ac9-ad86-4e56-8511-4ebb0c42292d"
      },
      "execution_count": 22,
      "outputs": [
        {
          "output_type": "stream",
          "name": "stdout",
          "text": [
            "Enter first number: 34.6\n",
            "34.6\n",
            "Enter second number: 78.6\n",
            "78.6\n",
            "Select an operation:\n",
            "Addition\n",
            "Subtraction\n",
            "Multiplication\n",
            "Division\n",
            "Enter your choice: Multiplication\n",
            "The product of 34.6 and 78.6 = 2719.56\n"
          ]
        }
      ]
    }
  ]
}